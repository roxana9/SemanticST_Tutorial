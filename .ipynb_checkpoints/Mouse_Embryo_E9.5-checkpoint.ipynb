{
 "cells": [
  {
   "cell_type": "markdown",
   "id": "4d20addb-e607-44f4-a6a2-a2217c2dd09c",
   "metadata": {},
   "source": [
    "<div style=\"display: flex; align-items: center;\">\n",
    "    <img src=\"mouse_emb.png\" width=\"80\" style=\"margin-right: 10px;\">\n",
    "    <h2><b>Tutorial 2: Mouse Embryo E9.5 Analysis (Slideseq)</b></h2>\n",
    "</div>\n",
    "\n",
    "> This tutorial demonstrates how to identify spatial domains on Slideseq data from mouse brain by SemanticST.\n"
   ]
  },
  {
   "cell_type": "code",
   "execution_count": null,
   "id": "254fdd97-c83b-4eb4-8547-e0a50434b670",
   "metadata": {},
   "outputs": [],
   "source": []
  }
 ],
 "metadata": {
  "kernelspec": {
   "display_name": "Roxana",
   "language": "python",
   "name": "semanticst"
  },
  "language_info": {
   "codemirror_mode": {
    "name": "ipython",
    "version": 3
   },
   "file_extension": ".py",
   "mimetype": "text/x-python",
   "name": "python",
   "nbconvert_exporter": "python",
   "pygments_lexer": "ipython3",
   "version": "3.9.20"
  }
 },
 "nbformat": 4,
 "nbformat_minor": 5
}
